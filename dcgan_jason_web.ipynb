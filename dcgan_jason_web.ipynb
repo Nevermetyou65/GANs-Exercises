{
 "cells": [
  {
   "cell_type": "code",
   "execution_count": 1,
   "metadata": {},
   "outputs": [],
   "source": [
    "import tensorflow as tf\n",
    "from tensorflow import keras\n",
    "from tensorflow.keras.datasets import fashion_mnist\n",
    "from tensorflow.keras import layers\n",
    "\n",
    "import numpy as np\n",
    "import matplotlib.pyplot as plt\n",
    "from IPython import display"
   ]
  },
  {
   "cell_type": "code",
   "execution_count": 2,
   "metadata": {},
   "outputs": [
    {
     "name": "stdout",
     "output_type": "stream",
     "text": [
      "2.7.0\n",
      "PhysicalDevice(name='/physical_device:CPU:0', device_type='CPU')\n",
      "PhysicalDevice(name='/physical_device:GPU:0', device_type='GPU')\n"
     ]
    }
   ],
   "source": [
    "print(tf.__version__)\n",
    "for device in tf.config.list_physical_devices():\n",
    "    print(device)"
   ]
  },
  {
   "cell_type": "code",
   "execution_count": 3,
   "metadata": {},
   "outputs": [
    {
     "name": "stdout",
     "output_type": "stream",
     "text": [
      "Train : (60000, 28, 28) (60000,)\n",
      "Test : (10000, 28, 28) (10000,)\n"
     ]
    }
   ],
   "source": [
    "(trainX, trainy), (testX, testy) = fashion_mnist.load_data()\n",
    "\n",
    "print(\"Train :\", trainX.shape, trainy.shape)\n",
    "print(\"Test :\", testX.shape, testy.shape)"
   ]
  },
  {
   "cell_type": "code",
   "execution_count": 4,
   "metadata": {},
   "outputs": [
    {
     "data": {
      "text/plain": [
       "<matplotlib.image.AxesImage at 0x1343abad550>"
      ]
     },
     "execution_count": 4,
     "metadata": {},
     "output_type": "execute_result"
    },
    {
     "data": {
      "image/png": "[encoded data removed]",
      "text/plain": [
       "<Figure size 432x288 with 1 Axes>"
      ]
     },
     "metadata": {
      "needs_background": "light"
     },
     "output_type": "display_data"
    }
   ],
   "source": [
    "plt.imshow(trainX[5], cmap='gray_r')"
   ]
  },
  {
   "cell_type": "code",
   "execution_count": 5,
   "metadata": {},
   "outputs": [],
   "source": [
    "def define_discriminator(in_shape=(28, 28, 1)):\n",
    "\n",
    "    model = keras.Sequential()\n",
    "    model.add(layers.Conv2D(128, (3, 3), strides=(2, 2), padding='same', input_shape=in_shape))\n",
    "    model.add(layers.LeakyReLU(alpha=0.2))\n",
    "    \n",
    "    model.add(layers.Conv2D(128, (3, 3), strides=(2, 2), padding='same'))\n",
    "    model.add(layers.LeakyReLU(alpha=0.2))\n",
    "\n",
    "    model.add(layers.Flatten())\n",
    "    model.add(layers.Dropout(0.4))\n",
    "    model.add(layers.Dense(1, activation='sigmoid'))\n",
    "\n",
    "    opt = keras.optimizers.Adam(learning_rate=0.0002, beta_1=0.5)\n",
    "    model.compile(\n",
    "        loss='binary_crossentropy',\n",
    "        optimizer=opt,\n",
    "        metrics=['accuracy'])\n",
    "\n",
    "    return model"
   ]
  },
  {
   "cell_type": "code",
   "execution_count": 6,
   "metadata": {},
   "outputs": [],
   "source": [
    "def define_generator(latent_dim):\n",
    "\n",
    "    model = keras.Sequential()\n",
    "    model.add(layers.Dense(units=128*7*7, input_dim=latent_dim))\n",
    "    model.add(layers.LeakyReLU(alpha=0.2))\n",
    "    model.add(layers.Reshape((7, 7, 128)))\n",
    "\n",
    "    model.add(layers.Conv2DTranspose(128, (4, 4), strides=(2, 2), padding='same'))\n",
    "    model.add(layers.LeakyReLU(alpha=0.2))\n",
    "\n",
    "    model.add(layers.Conv2DTranspose(128, (4, 4), strides=(2, 2), padding='same'))\n",
    "    model.add(layers.LeakyReLU(alpha=0.2))\n",
    "\n",
    "    model.add(layers.Conv2D(1, (7, 7), activation='tanh', padding='same'))\n",
    "\n",
    "    return model"
   ]
  },
  {
   "cell_type": "code",
   "execution_count": 7,
   "metadata": {},
   "outputs": [],
   "source": [
    "def define_gan(generator, discriminator):\n",
    "\n",
    "    discriminator.trainable = False\n",
    "\n",
    "    model = keras.Sequential()\n",
    "    model.add(generator)\n",
    "    model.add(discriminator)\n",
    "\n",
    "    opt = keras.optimizers.Adam(learning_rate=0.0002, beta_1=0.5)\n",
    "\n",
    "    model.compile(\n",
    "        loss='binary_crossentropy',\n",
    "        optimizer=opt\n",
    "    )\n",
    "\n",
    "    return model"
   ]
  },
  {
   "cell_type": "code",
   "execution_count": 8,
   "metadata": {},
   "outputs": [],
   "source": [
    "def load_real_samples():\n",
    "\n",
    "    (trainX, _), (_, _) = fashion_mnist.load_data()\n",
    "    X = np.expand_dims(trainX, axis=-1).astype('float32')\n",
    "    X = (X -127.5) / 127.5\n",
    "\n",
    "    return X"
   ]
  },
  {
   "cell_type": "code",
   "execution_count": 9,
   "metadata": {},
   "outputs": [],
   "source": [
    "def generate_real_samples(dataset, n_sample):\n",
    "\n",
    "    ix = np.random.randint(0, dataset.shape[0], n_sample)\n",
    "    X = dataset[ix]\n",
    "    y = tf.ones(shape=(n_sample, 1))\n",
    "\n",
    "    return X, y"
   ]
  },
  {
   "cell_type": "code",
   "execution_count": 10,
   "metadata": {},
   "outputs": [],
   "source": [
    "def generate_latent_points(latent_dim, n_sample):\n",
    "\n",
    "    x_input = tf.random.normal(shape=(n_sample, latent_dim))\n",
    "\n",
    "    return x_input"
   ]
  },
  {
   "cell_type": "code",
   "execution_count": 11,
   "metadata": {},
   "outputs": [],
   "source": [
    "def generate_fake_samples(generator, latent_dim, n_sample):\n",
    "\n",
    "    x_input = generate_latent_points(latent_dim, n_sample)\n",
    "    X = generator.predict(x_input)\n",
    "    y = tf.zeros((n_sample, 1))\n",
    "\n",
    "    return X, y"
   ]
  },
  {
   "cell_type": "code",
   "execution_count": 12,
   "metadata": {},
   "outputs": [],
   "source": [
    "def train(G, D, GAN, dataset, latent_dim, n_epoch=100, n_batch=128):\n",
    "\n",
    "    batch_per_epoch = int(dataset.shape[0] / n_batch)\n",
    "    half_batch = int(n_batch / 2)\n",
    "\n",
    "    D_LOSS = []\n",
    "    G_LOSS = []\n",
    "    for epoch in range(n_epoch):\n",
    "        for iteration in range(batch_per_epoch):\n",
    "\n",
    "            X_real, y_real = generate_real_samples(dataset, half_batch)\n",
    "            D_loss1, _ = D.train_on_batch(X_real, y_real)\n",
    "            X_Fake, y_fake = generate_fake_samples(G, latent_dim, half_batch)\n",
    "            D_loss2, _ = D.train_on_batch(X_Fake, y_fake)\n",
    "\n",
    "            X_gan = generate_latent_points(latent_dim, n_batch)\n",
    "            y_gan = tf.ones((n_batch, 1))\n",
    "            G_loss = GAN.train_on_batch(X_gan, y_gan)\n",
    "\n",
    "            if iteration % 100 == 0:\n",
    "                print('>%d, %d/%d, d_total=%.3f, g=%.3f' %\n",
    "\t\t\t\t    (epoch+1, iteration+1, batch_per_epoch, D_loss1+D_loss2, G_loss))\n",
    "                generate_and_save_images(G, latent_dim)\n",
    "                display.clear_output(wait=True)\n",
    "            \n",
    "                \n",
    "            D_LOSS.append(D_loss1+D_loss2)\n",
    "            G_LOSS.append(G_loss)\n",
    "    \n",
    "    G.save('Generator.h5')\n",
    "\n",
    "    return D_LOSS, G_LOSS"
   ]
  },
  {
   "cell_type": "code",
   "execution_count": 13,
   "metadata": {},
   "outputs": [],
   "source": [
    "def generate_and_save_images(G, latent_dim=100):\n",
    "\n",
    "  z = generate_latent_points(latent_dim, 16)\n",
    "  predictions = G(z, training=False)\n",
    "\n",
    "  fig = plt.figure(figsize=(12, 12))\n",
    "\n",
    "  for i in range(predictions.shape[0]):\n",
    "      plt.subplot(4, 4, i+1)\n",
    "      plt.imshow(predictions[i, :, :, 0] * 127.5 + 127.5, cmap='gray')\n",
    "      plt.axis('off')\n",
    "\n",
    "  # plt.savefig('fakeimage_fashionmnist/image_at_epoch_{:04d}.png'.format(epoch))\n",
    "  plt.show()"
   ]
  },
  {
   "cell_type": "code",
   "execution_count": 14,
   "metadata": {},
   "outputs": [
    {
     "name": "stdout",
     "output_type": "stream",
     "text": [
      "WARNING:tensorflow:Compiled the loaded model, but the compiled metrics have yet to be built. `model.compile_metrics` will be empty until you train or evaluate the model.\n"
     ]
    }
   ],
   "source": [
    "latent_dim = 100\n",
    "D = define_discriminator()\n",
    "G = define_generator(latent_dim)\n",
    "GAN = define_gan(G, D)\n",
    "\n",
    "dataset = load_real_samples()\n",
    "D_LOSS, G_LOSS = train(G, D, GAN, dataset, latent_dim)"
   ]
  },
  {
   "cell_type": "code",
   "execution_count": 21,
   "metadata": {},
   "outputs": [
    {
     "data": {
      "image/png": "[encoded data removed]",
      "text/plain": [
       "<Figure size 432x288 with 1 Axes>"
      ]
     },
     "metadata": {
      "needs_background": "light"
     },
     "output_type": "display_data"
    }
   ],
   "source": [
    "plt.plot(D_LOSS,)\n",
    "plt.plot(G_LOSS,)\n",
    "plt.show()"
   ]
  },
  {
   "cell_type": "code",
   "execution_count": 30,
   "metadata": {},
   "outputs": [
    {
     "name": "stdout",
     "output_type": "stream",
     "text": [
      "WARNING:tensorflow:No training configuration found in the save file, so the model was *not* compiled. Compile it manually.\n"
     ]
    },
    {
     "data": {
      "image/png": "[encoded data removed]",
      "text/plain": [
       "<Figure size 864x432 with 3 Axes>"
      ]
     },
     "metadata": {
      "needs_background": "light"
     },
     "output_type": "display_data"
    }
   ],
   "source": [
    "from tensorflow.keras.models import load_model\n",
    "\n",
    "saved_generator = load_model('generator.h5')\n",
    "batch_size = 3\n",
    "noise = tf.random.normal(shape=(batch_size, 100))\n",
    "imgs = saved_generator(noise, training=False)\n",
    "# print(imgs.shape)\n",
    "# print(type(imgs))\n",
    "fig, axes = plt.subplots(nrows=1, ncols=3, figsize=(12, 6))\n",
    "for i, img in enumerate(imgs):\n",
    "    axes[i].imshow(img.numpy().reshape((28,28)), cmap='gray_r')\n",
    "    axes[i].axis('off')"
   ]
  },
  {
   "cell_type": "code",
   "execution_count": null,
   "metadata": {},
   "outputs": [],
   "source": []
  }
 ],
 "metadata": {
  "interpreter": {
   "hash": "d2c0232beea39a074b56d23e38f61c9c88a0e4015a71ff632c65f04e034ee566"
  },
  "kernelspec": {
   "display_name": "Python 3.8.12 64-bit ('tensorflowgpu': conda)",
   "language": "python",
   "name": "python3"
  },
  "language_info": {
   "codemirror_mode": {
    "name": "ipython",
    "version": 3
   },
   "file_extension": ".py",
   "mimetype": "text/x-python",
   "name": "python",
   "nbconvert_exporter": "python",
   "pygments_lexer": "ipython3",
   "version": "3.8.12"
  },
  "orig_nbformat": 4
 },
 "nbformat": 4,
 "nbformat_minor": 2
}
